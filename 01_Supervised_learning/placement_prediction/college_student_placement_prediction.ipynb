{
 "cells": [
  {
   "cell_type": "code",
   "execution_count": 1,
   "id": "9179c84b-19e4-46a2-af5f-2b457ae75f33",
   "metadata": {},
   "outputs": [],
   "source": [
    "#importing modules\n",
    "from sklearn.ensemble import RandomForestClassifier\n",
    "import pandas as pd"
   ]
  },
  {
   "cell_type": "code",
   "execution_count": 2,
   "id": "025620ac-8705-46a7-b73b-9ea9baefc4fe",
   "metadata": {},
   "outputs": [],
   "source": [
    "#read and load data\n",
    "data_train=pd.read_csv('college_dataset _Train.csv')\n",
    "data_test=pd.read_csv('college_datasets_Test.csv')\n",
    "data_train['Internship_Experience'] = data_train['Internship_Experience'].map({'Yes': 1, 'No': 0}).astype(int)\n",
    "data_test['Internship_Experience'] = data_test['Internship_Experience'].map({'Yes': 1, 'No': 0}).astype(int)"
   ]
  },
  {
   "cell_type": "code",
   "execution_count": 3,
   "id": "6b600a42-b336-4f97-a603-5aab7aa9d69a",
   "metadata": {},
   "outputs": [],
   "source": [
    "#creating features and labels\n",
    "x_train=data_train.iloc[:,1:-1]\n",
    "y_train=data_train.iloc[:,-1]\n",
    "x_test=data_test.iloc[:,1:-1]\n",
    "y_test=data_test.iloc[:,-1]"
   ]
  },
  {
   "cell_type": "code",
   "execution_count": 4,
   "id": "3fe22055-951c-4229-b603-9a825a399e4c",
   "metadata": {},
   "outputs": [
    {
     "name": "stdout",
     "output_type": "stream",
     "text": [
      "['No' 'No' 'No' ... 'No' 'No' 'No']\n"
     ]
    }
   ],
   "source": [
    "clf=RandomForestClassifier()\n",
    "clf=clf.fit(x_train,y_train)\n",
    "prediction=clf.predict(x_test)\n",
    "print(prediction)"
   ]
  },
  {
   "cell_type": "code",
   "execution_count": 5,
   "id": "dc0740d1-6eb8-41a6-9322-b94f02b1c2b7",
   "metadata": {},
   "outputs": [],
   "source": [
    "#test accuracy"
   ]
  },
  {
   "cell_type": "code",
   "execution_count": 6,
   "id": "1f40a6c9-51bc-4d01-9a00-486fa6440542",
   "metadata": {},
   "outputs": [
    {
     "name": "stdout",
     "output_type": "stream",
     "text": [
      "99.95002498750625 %\n"
     ]
    }
   ],
   "source": [
    "count=0\n",
    "for i in range(len(y_test)):\n",
    "    if y_test[i]==prediction[i]:\n",
    "        count+=1\n",
    "print((count/len(y_test)*100),\"%\")      "
   ]
  },
  {
   "cell_type": "code",
   "execution_count": null,
   "id": "f4450d51-9b39-498c-9b8d-a69ea723d273",
   "metadata": {},
   "outputs": [],
   "source": []
  },
  {
   "cell_type": "code",
   "execution_count": 7,
   "id": "45251651-5850-4cbf-9f14-01052131342d",
   "metadata": {},
   "outputs": [
    {
     "name": "stdout",
     "output_type": "stream",
     "text": [
      "Number of rows in your test set: 2001\n",
      "Number of test rows that are ALSO in your training set: 0\n"
     ]
    }
   ],
   "source": [
    "# Load your two separate files\n",
    "data_train = pd.read_csv('college_dataset _Train.csv')\n",
    "data_test = pd.read_csv('college_datasets_Test.csv')\n",
    "\n",
    "# Define all columns to check for a full row match\n",
    "all_columns = data_test.columns.tolist()\n",
    "\n",
    "# Merge the two dataframes to find identical rows\n",
    "overlapping_rows_df = pd.merge(data_train, data_test, on=all_columns)\n",
    "\n",
    "# Get the count of overlapping rows\n",
    "num_overlapping_rows = len(overlapping_rows_df)\n",
    "\n",
    "print(f\"Number of rows in your test set: {len(data_test)}\")\n",
    "print(f\"Number of test rows that are ALSO in your training set: {num_overlapping_rows}\")"
   ]
  },
  {
   "cell_type": "code",
   "execution_count": null,
   "id": "12b70666-67c8-414c-9f0c-a6aa45935512",
   "metadata": {},
   "outputs": [],
   "source": []
  },
  {
   "cell_type": "code",
   "execution_count": null,
   "id": "b71b4e8d-cac0-43d7-a62c-d30f233883e7",
   "metadata": {},
   "outputs": [],
   "source": []
  }
 ],
 "metadata": {
  "kernelspec": {
   "display_name": "Python [conda env:base] *",
   "language": "python",
   "name": "conda-base-py"
  },
  "language_info": {
   "codemirror_mode": {
    "name": "ipython",
    "version": 3
   },
   "file_extension": ".py",
   "mimetype": "text/x-python",
   "name": "python",
   "nbconvert_exporter": "python",
   "pygments_lexer": "ipython3",
   "version": "3.13.5"
  }
 },
 "nbformat": 4,
 "nbformat_minor": 5
}
