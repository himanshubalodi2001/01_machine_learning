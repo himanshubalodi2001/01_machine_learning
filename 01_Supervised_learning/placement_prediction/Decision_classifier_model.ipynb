{
 "cells": [
  {
   "cell_type": "code",
   "execution_count": 1,
   "id": "38216a21-a753-48bd-bff9-a0dd36ea9536",
   "metadata": {},
   "outputs": [],
   "source": [
    "from sklearn.tree import DecisionTreeClassifier\n",
    "import pandas as pd"
   ]
  },
  {
   "cell_type": "code",
   "execution_count": 2,
   "id": "386d35ac-b9bb-469a-8c86-e0a72f1231bd",
   "metadata": {},
   "outputs": [],
   "source": [
    "#read and load data\n",
    "data_train=pd.read_csv('college_dataset _Train.csv')\n",
    "data_test=pd.read_csv('college_datasets_Test.csv')\n",
    "data_train['Internship_Experience'] = data_train['Internship_Experience'].map({'Yes': 1, 'No': 0}).astype(int)\n",
    "data_test['Internship_Experience'] = data_test['Internship_Experience'].map({'Yes': 1, 'No': 0}).astype(int)"
   ]
  },
  {
   "cell_type": "code",
   "execution_count": 3,
   "id": "9e330163-b467-4b99-90d1-35c14dc75b82",
   "metadata": {},
   "outputs": [],
   "source": [
    "#creating features and labels\n",
    "# Define your feature columns and target column by name\n",
    "features = [\n",
    "    'IQ', 'Prev_Sem_Result', 'CGPA', 'Academic_Performance', \n",
    "    'Internship_Experience', 'Extra_Curricular_Score', \n",
    "    'Communication_Skills', 'Projects_Completed'\n",
    "]\n",
    "target = 'Placement'\n",
    "\n",
    "# Create features and labels using column names\n",
    "x_train = data_train[features]\n",
    "y_train = data_train[target]\n",
    "x_test = data_test[features]\n",
    "y_test = data_test[target]"
   ]
  },
  {
   "cell_type": "code",
   "execution_count": 4,
   "id": "ba4e872f-29e6-46fe-ac68-88b3dc7a3613",
   "metadata": {},
   "outputs": [
    {
     "name": "stdout",
     "output_type": "stream",
     "text": [
      "['No' 'No' 'No' ... 'No' 'No' 'No']\n"
     ]
    }
   ],
   "source": [
    "clf=DecisionTreeClassifier()\n",
    "clf=clf.fit(x_train,y_train)\n",
    "prediction=clf.predict(x_test)\n",
    "print(prediction)"
   ]
  },
  {
   "cell_type": "code",
   "execution_count": 5,
   "id": "bce4fe19-679b-4472-b95b-5db5562cede6",
   "metadata": {},
   "outputs": [
    {
     "name": "stdout",
     "output_type": "stream",
     "text": [
      "100.0 %\n"
     ]
    }
   ],
   "source": [
    "count=0\n",
    "for i in range(len(y_test)):\n",
    "    if y_test[i]==prediction[i]:\n",
    "        count+=1\n",
    "print((count/len(y_test)*100),\"%\")      "
   ]
  },
  {
   "cell_type": "code",
   "execution_count": 6,
   "id": "f14ad7d1-0d92-496a-8ca5-1ee94519d066",
   "metadata": {},
   "outputs": [
    {
     "name": "stdout",
     "output_type": "stream",
     "text": [
      "## Feature Importances ##\n",
      "CGPA                      0.320418\n",
      "Projects_Completed        0.291168\n",
      "IQ                        0.218019\n",
      "Communication_Skills      0.170395\n",
      "Prev_Sem_Result           0.000000\n",
      "Academic_Performance      0.000000\n",
      "Internship_Experience     0.000000\n",
      "Extra_Curricular_Score    0.000000\n",
      "dtype: float64\n"
     ]
    }
   ],
   "source": [
    "# Create a pandas Series to view the importance of each feature\n",
    "feature_importances = pd.Series(clf.feature_importances_, index=features).sort_values(ascending=False)\n",
    "\n",
    "print(\"## Feature Importances ##\")\n",
    "print(feature_importances)"
   ]
  }
 ],
 "metadata": {
  "kernelspec": {
   "display_name": "Python [conda env:base] *",
   "language": "python",
   "name": "conda-base-py"
  },
  "language_info": {
   "codemirror_mode": {
    "name": "ipython",
    "version": 3
   },
   "file_extension": ".py",
   "mimetype": "text/x-python",
   "name": "python",
   "nbconvert_exporter": "python",
   "pygments_lexer": "ipython3",
   "version": "3.13.5"
  }
 },
 "nbformat": 4,
 "nbformat_minor": 5
}
