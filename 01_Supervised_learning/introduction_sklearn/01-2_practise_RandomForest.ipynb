{
 "cells": [
  {
   "cell_type": "code",
   "execution_count": 1,
   "id": "2c9afca6-4e41-4f0e-bb57-8f2de3096b4e",
   "metadata": {},
   "outputs": [],
   "source": [
    "from sklearn.ensemble import RandomForestClassifier"
   ]
  },
  {
   "cell_type": "code",
   "execution_count": 2,
   "id": "5f5fe4cf-441b-44a8-b7a8-b11f4d8e805f",
   "metadata": {},
   "outputs": [],
   "source": [
    "features=[\n",
    "    [150,0],\n",
    "    [160,0],\n",
    "    [130,1],\n",
    "    [120,1]\n",
    "]"
   ]
  },
  {
   "cell_type": "code",
   "execution_count": 3,
   "id": "2ba2ff7b-97b9-4850-9f74-9cd149bd7623",
   "metadata": {},
   "outputs": [],
   "source": [
    "labels=['Apple','Apple','Orange','Orange']"
   ]
  },
  {
   "cell_type": "code",
   "execution_count": 6,
   "id": "04409468-c818-4f13-8e52-96e26ac50faf",
   "metadata": {},
   "outputs": [
    {
     "name": "stdout",
     "output_type": "stream",
     "text": [
      "The fruit is Orange\n"
     ]
    }
   ],
   "source": [
    "clf=RandomForestClassifier()\n",
    "clf=clf.fit(features,labels)\n",
    "prediction=clf.predict([[150,1]])\n",
    "print(f'The fruit is {prediction[0]}')"
   ]
  },
  {
   "cell_type": "code",
   "execution_count": null,
   "id": "2e43b93e-6462-4882-9a20-f8b86122b634",
   "metadata": {},
   "outputs": [],
   "source": []
  }
 ],
 "metadata": {
  "kernelspec": {
   "display_name": "Python [conda env:base] *",
   "language": "python",
   "name": "conda-base-py"
  },
  "language_info": {
   "codemirror_mode": {
    "name": "ipython",
    "version": 3
   },
   "file_extension": ".py",
   "mimetype": "text/x-python",
   "name": "python",
   "nbconvert_exporter": "python",
   "pygments_lexer": "ipython3",
   "version": "3.13.5"
  }
 },
 "nbformat": 4,
 "nbformat_minor": 5
}
