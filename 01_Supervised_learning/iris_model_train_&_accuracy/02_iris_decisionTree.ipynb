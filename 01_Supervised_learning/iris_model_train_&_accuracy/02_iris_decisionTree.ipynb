{
 "cells": [
  {
   "cell_type": "code",
   "execution_count": 1,
   "id": "6b313744-0624-4177-b107-be50cffbac68",
   "metadata": {},
   "outputs": [],
   "source": [
    "from sklearn.tree import DecisionTreeClassifier\n",
    "import pandas as pd"
   ]
  },
  {
   "cell_type": "code",
   "execution_count": 17,
   "id": "a09c393b-c816-4059-832f-8022c25e64dc",
   "metadata": {},
   "outputs": [],
   "source": [
    "data=pd.read_csv('iris-train.csv')\n",
    "dataTest=pd.read_csv('iris-test.csv')\n",
    "data.head(1)\n",
    "x=data.iloc[:,:-1]\n",
    "y=data.iloc[:,-1]\n",
    "xtest=dataTest.iloc[:,:-1]\n",
    "ytest=dataTest.iloc[:,-1]"
   ]
  },
  {
   "cell_type": "code",
   "execution_count": 18,
   "id": "fd00d196-c2ac-4e6e-ae10-83ff82a79f3d",
   "metadata": {},
   "outputs": [],
   "source": [
    "model=DecisionTreeClassifier()\n",
    "model=model.fit(x.values,y.values)\n",
    "#prediction=model.predict([[5,2.3,3.3,1]])\n",
    "prediction=model.predict(xtest.values)"
   ]
  },
  {
   "cell_type": "code",
   "execution_count": 19,
   "id": "34181aa8-0806-4578-81a2-069c27089525",
   "metadata": {},
   "outputs": [
    {
     "name": "stdout",
     "output_type": "stream",
     "text": [
      "The class of Test data are:\n",
      "['Iris-versicolor' 'Iris-setosa' 'Iris-setosa' 'Iris-setosa' 'Iris-setosa'\n",
      " 'Iris-versicolor' 'Iris-setosa' 'Iris-setosa' 'Iris-setosa' 'Iris-setosa'\n",
      " 'Iris-setosa' 'Iris-setosa' 'Iris-setosa' 'Iris-setosa' 'Iris-versicolor'\n",
      " 'Iris-setosa' 'Iris-setosa' 'Iris-setosa' 'Iris-setosa' 'Iris-setosa'\n",
      " 'Iris-setosa' 'Iris-setosa' 'Iris-setosa' 'Iris-versicolor'\n",
      " 'Iris-versicolor' 'Iris-setosa' 'Iris-setosa' 'Iris-setosa' 'Iris-setosa'\n",
      " 'Iris-versicolor' 'Iris-versicolor' 'Iris-setosa' 'Iris-setosa'\n",
      " 'Iris-setosa']\n"
     ]
    }
   ],
   "source": [
    "#print(f\"The class of given data is {prediction[0]}\")\n",
    "print(f'The class of Test data are:\\n{prediction}')"
   ]
  },
  {
   "cell_type": "code",
   "execution_count": 20,
   "id": "0c8438b0-2ede-4fee-8df7-8818d2eeed8a",
   "metadata": {},
   "outputs": [
    {
     "data": {
      "text/plain": [
       "array(['Iris-versicolor', 'Iris-setosa', 'Iris-setosa', 'Iris-setosa',\n",
       "       'Iris-setosa', 'Iris-versicolor', 'Iris-setosa', 'Iris-setosa',\n",
       "       'Iris-setosa', 'Iris-setosa', 'Iris-setosa', 'Iris-setosa',\n",
       "       'Iris-setosa', 'Iris-setosa', 'Iris-versicolor', 'Iris-setosa',\n",
       "       'Iris-setosa', 'Iris-setosa', 'Iris-setosa', 'Iris-setosa',\n",
       "       'Iris-setosa', 'Iris-setosa', 'Iris-setosa', 'Iris-versicolor',\n",
       "       'Iris-versicolor', 'Iris-setosa', 'Iris-setosa', 'Iris-setosa',\n",
       "       'Iris-setosa', 'Iris-virginica', 'Iris-versicolor', 'Iris-setosa',\n",
       "       'Iris-setosa', 'Iris-setosa'], dtype=object)"
      ]
     },
     "execution_count": 20,
     "metadata": {},
     "output_type": "execute_result"
    }
   ],
   "source": [
    "#so we have to find accuracy of our model\n",
    "ytest.values"
   ]
  },
  {
   "cell_type": "code",
   "execution_count": 21,
   "id": "bf832e2b-4a70-43d1-84e1-fef05e7a784a",
   "metadata": {},
   "outputs": [
    {
     "name": "stdout",
     "output_type": "stream",
     "text": [
      "97.05882352941177\n"
     ]
    }
   ],
   "source": [
    "count=0\n",
    "for i in range(len(ytest)):\n",
    "    if ytest[i]==prediction[i]:\n",
    "        count+=1\n",
    "print((count*100)/len(ytest))    "
   ]
  },
  {
   "cell_type": "code",
   "execution_count": null,
   "id": "4a561d36-9bee-4596-a050-a4cc922665e5",
   "metadata": {},
   "outputs": [],
   "source": []
  }
 ],
 "metadata": {
  "kernelspec": {
   "display_name": "Python [conda env:base] *",
   "language": "python",
   "name": "conda-base-py"
  },
  "language_info": {
   "codemirror_mode": {
    "name": "ipython",
    "version": 3
   },
   "file_extension": ".py",
   "mimetype": "text/x-python",
   "name": "python",
   "nbconvert_exporter": "python",
   "pygments_lexer": "ipython3",
   "version": "3.13.5"
  }
 },
 "nbformat": 4,
 "nbformat_minor": 5
}
