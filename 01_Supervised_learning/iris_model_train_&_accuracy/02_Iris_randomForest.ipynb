{
 "cells": [
  {
   "cell_type": "code",
   "execution_count": 8,
   "id": "1e6a97de-e4ce-45d4-b49c-c551a9c16278",
   "metadata": {},
   "outputs": [],
   "source": [
    "from sklearn.ensemble import RandomForestClassifier\n",
    "import pandas as pd"
   ]
  },
  {
   "cell_type": "code",
   "execution_count": 9,
   "id": "050679ba-45f7-4b63-bf4a-9807fc24699c",
   "metadata": {},
   "outputs": [],
   "source": [
    "data=pd.read_csv('iris-train.csv')\n",
    "dataTest=pd.read_csv('iris-test.csv')\n"
   ]
  },
  {
   "cell_type": "code",
   "execution_count": 10,
   "id": "57f9a459-6185-4c8b-b5e0-71c24ca9d0a1",
   "metadata": {},
   "outputs": [],
   "source": [
    "x=data.iloc[:,:-1]\n",
    "y=data.iloc[:,-1]\n",
    "xtest=dataTest.iloc[:,:-1]\n",
    "ytest=dataTest.iloc[:,-1]"
   ]
  },
  {
   "cell_type": "code",
   "execution_count": 13,
   "id": "bc4941e5-e15f-48b1-8911-971d9f3720fe",
   "metadata": {},
   "outputs": [],
   "source": [
    "clf=RandomForestClassifier()\n",
    "clf=clf.fit(x,y)\n",
    "prediction=clf.predict(xtest)\n"
   ]
  },
  {
   "cell_type": "code",
   "execution_count": 14,
   "id": "5a1b1bfc-8288-414b-b23f-d48a49ef4438",
   "metadata": {},
   "outputs": [
    {
     "name": "stdout",
     "output_type": "stream",
     "text": [
      "The class of all is\n",
      " ['Iris-versicolor' 'Iris-setosa' 'Iris-setosa' 'Iris-setosa' 'Iris-setosa'\n",
      " 'Iris-versicolor' 'Iris-setosa' 'Iris-setosa' 'Iris-setosa' 'Iris-setosa'\n",
      " 'Iris-setosa' 'Iris-setosa' 'Iris-setosa' 'Iris-setosa' 'Iris-versicolor'\n",
      " 'Iris-setosa' 'Iris-setosa' 'Iris-setosa' 'Iris-setosa' 'Iris-setosa'\n",
      " 'Iris-setosa' 'Iris-setosa' 'Iris-setosa' 'Iris-versicolor'\n",
      " 'Iris-versicolor' 'Iris-setosa' 'Iris-setosa' 'Iris-setosa' 'Iris-setosa'\n",
      " 'Iris-versicolor' 'Iris-versicolor' 'Iris-setosa' 'Iris-setosa'\n",
      " 'Iris-setosa']\n"
     ]
    }
   ],
   "source": [
    "print(f'The class of all is\\n {prediction}')"
   ]
  },
  {
   "cell_type": "code",
   "execution_count": 15,
   "id": "e3427534-47df-4660-83a8-45117fb550d4",
   "metadata": {},
   "outputs": [],
   "source": [
    "#checking accuracy"
   ]
  },
  {
   "cell_type": "code",
   "execution_count": 25,
   "id": "5eadc69e-f97e-41e4-810c-7f69aa1d79f6",
   "metadata": {},
   "outputs": [
    {
     "name": "stdout",
     "output_type": "stream",
     "text": [
      "R_Forest model accracy is 97.05882352941177\n"
     ]
    }
   ],
   "source": [
    "count=0\n",
    "for i in range(len(ytest)):\n",
    "    if ytest[i]==prediction[i]:\n",
    "        count+=1\n",
    "accuracy=(count*100)/len(ytest)        \n",
    "print(f\"R_Forest model accracy is {accuracy}\")        "
   ]
  },
  {
   "cell_type": "code",
   "execution_count": null,
   "id": "ab964f07-c83e-4f16-8a54-cfbca285e8d1",
   "metadata": {},
   "outputs": [],
   "source": []
  }
 ],
 "metadata": {
  "kernelspec": {
   "display_name": "Python [conda env:base] *",
   "language": "python",
   "name": "conda-base-py"
  },
  "language_info": {
   "codemirror_mode": {
    "name": "ipython",
    "version": 3
   },
   "file_extension": ".py",
   "mimetype": "text/x-python",
   "name": "python",
   "nbconvert_exporter": "python",
   "pygments_lexer": "ipython3",
   "version": "3.13.5"
  }
 },
 "nbformat": 4,
 "nbformat_minor": 5
}
